{
 "cells": [
  {
   "cell_type": "markdown",
   "id": "aa42fe4c",
   "metadata": {},
   "source": [
    "# Taller 4\n",
    "\n",
    "## Carga CSV a MySQL con carga inicial e incremental\n",
    "\n",
    "*mysql -u root -p*\n"
   ]
  },
  {
   "cell_type": "code",
   "execution_count": 3,
   "id": "4f57db16",
   "metadata": {},
   "outputs": [
    {
     "name": "stdout",
     "output_type": "stream",
     "text": [
      "Tabla creada exitosamente.\n"
     ]
    }
   ],
   "source": [
    "import pandas as pd\n",
    "from sqlalchemy import create_engine, text\n",
    "from dotenv import load_dotenv\n",
    "import os\n",
    "\n",
    "load_dotenv()\n",
    "DB_HOST = os.getenv('DB_HOST')\n",
    "DB_PORT = os.getenv('DB_PORT')\n",
    "DB_USER = os.getenv('DB_USER')\n",
    "DB_PASSWORD = os.getenv('DB_PASSWORD')\n",
    "DB_NAME = os.getenv('DB_NAME')\n",
    "\n",
    "# Agregar parámetros de conexión para manejar la autenticación MySQL 8.0+\n",
    "DB_URL = f'mysql+pymysql://{DB_USER}:{DB_PASSWORD}@{DB_HOST}:{DB_PORT}/{DB_NAME}?charset=utf8mb4&auth_plugin_map=caching_sha2_password:mysql_native_password'\n",
    "\n",
    "# Crear engine con configuraciones adicionales\n",
    "engine = create_engine(\n",
    "    DB_URL,\n",
    "    pool_pre_ping=True,\n",
    "    pool_recycle=300,\n",
    "    echo=False\n",
    ")\n",
    "\n",
    "ddl = \"\"\"\n",
    "    CREATE TABLE IF NOT EXISTS laboratorio (\n",
    "    laboratorio_id INT AUTO_INCREMENT PRIMARY KEY,\n",
    "    cliente VARCHAR(100),\n",
    "    producto VARCHAR(100),\n",
    "    categoria VARCHAR(100),\n",
    "    precio_unitario DECIMAL(10, 2),\n",
    "    unidades INT,\n",
    "    fecha DATE\n",
    "    );\n",
    "\"\"\"\n",
    "\n",
    "try:\n",
    "    with engine.connect() as connection:\n",
    "        connection.execute(text(ddl))\n",
    "        connection.commit()\n",
    "    print(\"Tabla creada exitosamente.\")\n",
    "except Exception as e:\n",
    "    print(f\"Error al conectar con la base de datos: {e}\")\n",
    "    print(\"Intentando conexión alternativa...\")\n",
    "    \n",
    "    # Intentar con configuración alternativa\n",
    "    DB_URL_ALT = f'mysql+pymysql://{DB_USER}:{DB_PASSWORD}@{DB_HOST}:{DB_PORT}/{DB_NAME}?charset=utf8mb4'\n",
    "    engine_alt = create_engine(DB_URL_ALT, pool_pre_ping=True)\n",
    "    \n",
    "    try:\n",
    "        with engine_alt.connect() as connection:\n",
    "            connection.execute(text(ddl))\n",
    "            connection.commit()\n",
    "        print(\"Tabla creada exitosamente con configuración alternativa.\")\n",
    "        engine = engine_alt  # Usar la configuración alternativa\n",
    "    except Exception as e2:\n",
    "        print(f\"Error con configuración alternativa: {e2}\")\n",
    "        print(\"Verificar que MySQL esté ejecutándose: docker-compose up -d\")"
   ]
  }
 ],
 "metadata": {
  "kernelspec": {
   "display_name": "Python 3",
   "language": "python",
   "name": "python3"
  },
  "language_info": {
   "codemirror_mode": {
    "name": "ipython",
    "version": 3
   },
   "file_extension": ".py",
   "mimetype": "text/x-python",
   "name": "python",
   "nbconvert_exporter": "python",
   "pygments_lexer": "ipython3",
   "version": "3.11.0"
  }
 },
 "nbformat": 4,
 "nbformat_minor": 5
}
