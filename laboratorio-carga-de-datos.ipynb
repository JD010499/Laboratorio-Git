{
 "cells": [
  {
   "cell_type": "markdown",
   "id": "aa42fe4c",
   "metadata": {},
   "source": [
    "# Taller 4\n",
    "\n",
    "## Carga CSV a MySQL con carga inicial e incremental\n",
    "\n",
    "*mysql -u root -p*\n"
   ]
  },
  {
   "cell_type": "code",
   "execution_count": 1,
   "id": "4f57db16",
   "metadata": {},
   "outputs": [
    {
     "name": "stdout",
     "output_type": "stream",
     "text": [
      "Tabla creada exitosamente. 2025-10-10 20:50:31.970702\n"
     ]
    }
   ],
   "source": [
    "import pandas as pd\n",
    "from sqlalchemy import create_engine, text\n",
    "from dotenv import load_dotenv\n",
    "import os\n",
    "from datetime import datetime\n",
    "\n",
    "load_dotenv()\n",
    "DB_HOST = os.getenv('DB_HOST')\n",
    "DB_PORT = os.getenv('DB_PORT')\n",
    "DB_USER = os.getenv('DB_USER')\n",
    "DB_PASSWORD = os.getenv('DB_PASSWORD')\n",
    "DB_NAME = os.getenv('DB_NAME')\n",
    "\n",
    "# Agregar parámetros de conexión para manejar la autenticación MySQL 8.0+\n",
    "DB_URL = f'mysql+pymysql://{DB_USER}:{DB_PASSWORD}@{DB_HOST}:{DB_PORT}/{DB_NAME}?charset=utf8mb4&auth_plugin_map=caching_sha2_password:mysql_native_password'\n",
    "\n",
    "# Crear engine con configuraciones adicionales\n",
    "engine = create_engine(\n",
    "    DB_URL,\n",
    "    pool_pre_ping=True,\n",
    "    pool_recycle=300,\n",
    "    echo=False\n",
    ")\n",
    "\n",
    "ddl = \"\"\"\n",
    "    CREATE TABLE IF NOT EXISTS ventas (\n",
    "    venta_id INT AUTO_INCREMENT PRIMARY KEY,\n",
    "    cliente VARCHAR(100),\n",
    "    producto VARCHAR(100),\n",
    "    categoria VARCHAR(100),\n",
    "    precio_unitario DECIMAL(10, 2),\n",
    "    unidades INT,\n",
    "    fecha DATE\n",
    "    );\n",
    "\"\"\"\n",
    "\n",
    "try:\n",
    "    with engine.connect() as connection:\n",
    "        connection.execute(text(ddl))\n",
    "        connection.commit()\n",
    "    print(f\"Tabla creada exitosamente. {datetime.now()}\")\n",
    "except Exception as e:\n",
    "    print(f\"Error al conectar con la base de datos: {e}\")\n",
    "    print(\"Intentando conexión alternativa...\")\n",
    "    \n",
    "    # Intentar con configuración alternativa\n",
    "    DB_URL_ALT = f'mysql+pymysql://{DB_USER}:{DB_PASSWORD}@{DB_HOST}:{DB_PORT}/{DB_NAME}?charset=utf8mb4'\n",
    "    engine_alt = create_engine(DB_URL_ALT, pool_pre_ping=True)\n",
    "    \n",
    "    try:\n",
    "        with engine_alt.connect() as connection:\n",
    "            connection.execute(text(ddl))\n",
    "            connection.commit()\n",
    "        print(\"Tabla creada exitosamente con configuración alternativa.\")\n",
    "        engine = engine_alt  # Usar la configuración alternativa\n",
    "    except Exception as e2:\n",
    "        print(f\"Error con configuración alternativa: {e2}\")\n",
    "        print(\"Verificar que MySQL esté ejecutándose: docker-compose up -d\")"
   ]
  },
  {
   "cell_type": "code",
   "execution_count": 2,
   "id": "d81f583c",
   "metadata": {},
   "outputs": [
    {
     "name": "stdout",
     "output_type": "stream",
     "text": [
      "Datos insertados exitosamente. 2025-10-10 20:50:32.127040 - Total filas insertadas: 20\n"
     ]
    }
   ],
   "source": [
    "# Leer CSV\n",
    "\n",
    "csv_file_path = 'ventas.csv'\n",
    "df = pd.read_csv(csv_file_path) \n",
    "\n",
    "df['precio_unitario'] = pd.to_numeric(df['precio_unitario'], errors='coerce')\n",
    "df['unidades'] = pd.to_numeric(df['unidades'], errors='coerce')\n",
    "df['fecha'] = pd.to_datetime(df['fecha'], errors='coerce').dt.date\n",
    "\n",
    "with engine.begin() as conn:\n",
    "    conn.execute(text(\"TRUNCATE TABLE ventas\"))\n",
    "\n",
    "df.to_sql('ventas', con=engine, if_exists='append', index=False, method='multi', chunksize=1000)\n",
    "\n",
    "print(f\"Datos insertados exitosamente. {datetime.now()} - Total filas insertadas: {len(df)}\")\n",
    "\n"
   ]
  },
  {
   "cell_type": "code",
   "execution_count": 4,
   "id": "875f7ae0",
   "metadata": {},
   "outputs": [
    {
     "name": "stdout",
     "output_type": "stream",
     "text": [
      "Datos incrementales insertados/actualizados exitosamente. 2025-10-10 21:04:59.604773 - Total filas procesadas: 4\n"
     ]
    }
   ],
   "source": [
    "from sqlalchemy import text\n",
    "\n",
    "df_inc = pd.read_csv('ventas_incrementales.csv')\n",
    "\n",
    "df_inc['precio_unitario'] = pd.to_numeric(df_inc['precio_unitario'], errors='coerce')\n",
    "df_inc['unidades'] = pd.to_numeric(df_inc['unidades'], errors='coerce')\n",
    "df_inc['fecha'] = pd.to_datetime(df_inc['fecha'], errors='coerce').dt.date\n",
    "\n",
    "### Convertimos a lista de diccionarios para ejecucciones masivas\n",
    "\n",
    "data = df_inc.to_dict(orient='records')\n",
    "\n",
    "upsert_sql = text(\"\"\"\n",
    "    INSERT INTO ventas (cliente, producto, categoria, precio_unitario, unidades, fecha)\n",
    "    VALUES (:cliente, :producto, :categoria, :precio_unitario, :unidades, :fecha)\n",
    "    ON DUPLICATE KEY UPDATE\n",
    "                  precio_unitario = VALUES(precio_unitario),\n",
    "        unidades = VALUES(unidades),\n",
    "        fecha = VALUES(fecha);\"\"\")\n",
    "\n",
    "batch = 1000\n",
    "\n",
    "with engine.begin() as conn:\n",
    "    conn.execute(upsert_sql, data, execution_options={\"batch_size\": batch})\n",
    "\n",
    "print(f\"Datos incrementales insertados/actualizados exitosamente. {datetime.now()} - Total filas procesadas: {len(df_inc)}\")\n",
    "\n"
   ]
  },
  {
   "cell_type": "code",
   "execution_count": 7,
   "id": "0ecad43b",
   "metadata": {},
   "outputs": [
    {
     "name": "stdout",
     "output_type": "stream",
     "text": [
      "   venta_id cliente   producto    categoria  precio_unitario  unidades  \\\n",
      "0         1     Ana     Laptop  Electrónica           2500.0         1   \n",
      "1         2    Luis   Teléfono  Electrónica           1200.0         2   \n",
      "2         3   Cesar     Tablet  Electrónica            800.0         1   \n",
      "3         4   María  Audífonos   Accesorios            150.0         3   \n",
      "4         5   Pedro    Monitor  Electrónica            600.0         2   \n",
      "\n",
      "        fecha  \n",
      "0  2023-01-01  \n",
      "1  2023-01-02  \n",
      "2  2023-01-02  \n",
      "3  2023-01-03  \n",
      "4  2023-01-04  \n",
      "    venta_id cliente producto    categoria  precio_unitario  unidades  \\\n",
      "23        24     Leo  Lámpara   Accesorios             40.0         2   \n",
      "24        25   Pedro  Monitor  Electrónica            650.0         1   \n",
      "25        26    Nora   Cámara  Electrónica            350.0         1   \n",
      "26        27  Andrés  Lámpara   Accesorios             40.0         2   \n",
      "27        28     Leo  Lámpara   Accesorios             40.0         2   \n",
      "\n",
      "         fecha  \n",
      "23  2023-01-16  \n",
      "24  2023-01-15  \n",
      "25  2023-01-16  \n",
      "26  2023-01-16  \n",
      "27  2023-01-16  \n",
      "Total Registros 28 \n",
      "========================================\n",
      "Top 10 productos por ventas\n",
      "    producto  total_ventas\n",
      "0    Monitor        3110.0\n",
      "1     Laptop        2500.0\n",
      "2   Teléfono        2400.0\n",
      "3     Tablet        1620.0\n",
      "4     Cámara         700.0\n",
      "5  Audífonos         605.0\n",
      "6    Lámpara         320.0\n",
      "7  Disco SSD         300.0\n",
      "8  Impresora         220.0\n",
      "9    Teclado         205.0\n"
     ]
    }
   ],
   "source": [
    "## Mostrar primeras y ultimas filas de la tabla ventas\n",
    "all_rows = pd.read_sql(\"SELECT * FROM ventas\", con=engine)\n",
    "print(all_rows.head(5))\n",
    "print(all_rows.tail(5))\n",
    "print(f\"Total Registros {len(all_rows)} \")\n",
    "\n",
    "\n",
    "# Top productos pro ventas (precio * unidades)\n",
    "top_productos = pd.read_sql(\"\"\"\n",
    "    SELECT producto, SUM(precio_unitario * unidades) AS total_ventas\n",
    "    FROM ventas\n",
    "    GROUP BY producto\n",
    "    ORDER BY total_ventas DESC\n",
    "    LIMIT 10;\n",
    "\"\"\", con=engine)\n",
    "print(f\"=\" * 40)\n",
    "print(\"Top 10 productos por ventas\")\n",
    "print(top_productos)\n"
   ]
  }
 ],
 "metadata": {
  "kernelspec": {
   "display_name": "Python 3",
   "language": "python",
   "name": "python3"
  },
  "language_info": {
   "codemirror_mode": {
    "name": "ipython",
    "version": 3
   },
   "file_extension": ".py",
   "mimetype": "text/x-python",
   "name": "python",
   "nbconvert_exporter": "python",
   "pygments_lexer": "ipython3",
   "version": "3.11.0"
  }
 },
 "nbformat": 4,
 "nbformat_minor": 5
}
